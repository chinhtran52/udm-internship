{
 "cells": [
  {
   "cell_type": "code",
   "execution_count": 1,
   "metadata": {},
   "outputs": [],
   "source": [
    "import numpy as np\n",
    "import plyfile as ply\n",
    "from plyfile import PlyData, PlyElement\n",
    "\n",
    "#gaussian\n",
    "import gaussian_color as gauss\n",
    "\n",
    "#mean\n",
    "import mean_color as mean\n",
    "\n",
    "import open3d as o3d"
   ]
  },
  {
   "cell_type": "code",
   "execution_count": null,
   "metadata": {},
   "outputs": [],
   "source": [
    "vertices = plydata['vertex'].count\n",
    "faces = plydata['face'].count\n",
    "height = np.amax(plydata['vertex']['y'])"
   ]
  },
  {
   "cell_type": "code",
   "execution_count": 2,
   "metadata": {},
   "outputs": [],
   "source": [
    "#get Color\n",
    "for i in range(8):\n",
    "    file_name = 'fixed_pose_'+str(i+1)+'.ply'\n",
    "    plydata = PlyData.read('./Mesh/Guassian Curvature/fixed/'+file_name)\n",
    "    curvature_data = np.asarray(plydata['vertex'][:]['quality'])\n",
    "    for index in range(plydata['vertex'].count):\n",
    "        #print(curvature_data[index])\n",
    "        color = gauss.getColor(curvature_data[index])\n",
    "        plydata['vertex'][index]['red'] = color[0]\n",
    "        plydata['vertex'][index]['green'] = color[1]\n",
    "        plydata['vertex'][index]['blue'] = color[2]\n",
    "        plydata['vertex'][index]['alpha'] = color[3]\n",
    "    plydata.write('./Mesh/results/fixed/gauss_'+file_name)"
   ]
  },
  {
   "cell_type": "code",
   "execution_count": 6,
   "metadata": {},
   "outputs": [],
   "source": [
    "#read mesh\n",
    "mesh = o3d.io.read_triangle_mesh(\"./Mesh/results/mean_pose_3.ply\")\n",
    "# print(\"Computing normal and rendering it.\")\n",
    "mesh.compute_vertex_normals()\n",
    "o3d.visualization.draw_geometries([mesh])"
   ]
  },
  {
   "cell_type": "code",
   "execution_count": 11,
   "metadata": {},
   "outputs": [
    {
     "name": "stdout",
     "output_type": "stream",
     "text": [
      "4415.5356\n",
      "-18952.957\n"
     ]
    }
   ],
   "source": [
    "print(np.amax(curvature_data))\n",
    "print(np.amin(curvature_data))"
   ]
  },
  {
   "cell_type": "code",
   "execution_count": null,
   "metadata": {},
   "outputs": [],
   "source": []
  }
 ],
 "metadata": {
  "kernelspec": {
   "display_name": "Python 3.6.10 64-bit ('points': conda)",
   "language": "python",
   "name": "python361064bitpointsconda483ac189efbf40e9a3cd262f7446a353"
  },
  "language_info": {
   "codemirror_mode": {
    "name": "ipython",
    "version": 3
   },
   "file_extension": ".py",
   "mimetype": "text/x-python",
   "name": "python",
   "nbconvert_exporter": "python",
   "pygments_lexer": "ipython3",
   "version": "3.6.10"
  }
 },
 "nbformat": 4,
 "nbformat_minor": 4
}
