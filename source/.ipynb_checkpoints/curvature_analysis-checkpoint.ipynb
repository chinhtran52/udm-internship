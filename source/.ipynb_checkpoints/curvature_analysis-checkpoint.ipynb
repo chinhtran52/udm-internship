{
 "cells": [
  {
   "cell_type": "code",
   "execution_count": 1,
   "metadata": {},
   "outputs": [],
   "source": [
    "import quadratic as qdr\n",
    "import numpy as np\n",
    "import plyfile as ply\n",
    "from plyfile import PlyData, PlyElement\n",
    "\n",
    "# #gaussian\n",
    "# import gaussian_color as gauss\n",
    "\n",
    "# #mean\n",
    "# import mean_color as mean\n",
    "\n",
    "import open3d as o3d\n",
    "import matplotlib.pyplot as plt\n",
    "from mpl_toolkits import mplot3d\n",
    "import math"
   ]
  },
  {
   "cell_type": "code",
   "execution_count": 2,
   "metadata": {},
   "outputs": [],
   "source": [
    "#read file and get data\n",
    "file_name = 'pose_3.ply'\n",
    "plydata_mean = PlyData.read('./Mesh/Mean Curvature/normal/'+file_name)\n",
    "plydata_gauss = PlyData.read('./Mesh/Guassian Curvature/normal/'+file_name)\n",
    "curvature_data_mean = np.asarray(plydata_mean['vertex'][:]['quality'])\n",
    "curvature_data_gauss = np.asarray(plydata_gauss['vertex'][:]['quality'])"
   ]
  },
  {
   "cell_type": "code",
   "execution_count": 3,
   "metadata": {},
   "outputs": [],
   "source": [
    "#data\n",
    "vertices = plydata_gauss['vertex'].count\n",
    "faces = plydata_gauss['face'].count\n",
    "height = np.amax(plydata_gauss['vertex']['y'])"
   ]
  },
  {
   "cell_type": "code",
   "execution_count": 4,
   "metadata": {},
   "outputs": [],
   "source": [
    "# khai báo\n",
    "k = []\n",
    "absolute = np.zeros(vertices)\n",
    "rms = np.zeros(vertices)"
   ]
  },
  {
   "cell_type": "code",
   "execution_count": 5,
   "metadata": {},
   "outputs": [],
   "source": [
    "# principal curvature và các độ cong khác RMS, ABS\n",
    "for i in range(vertices):\n",
    "    s = 2*curvature_data_mean[i]\n",
    "    p = curvature_data_gauss[i]\n",
    "    k.append(qdr.quadratic_revert_viete(s,p))\n",
    "    absolute[i] = abs(k[i][0]) + abs(k[i][1])\n",
    "    rms[i] = math.sqrt((k[i][0]*k[i][0]+k[i][1]*k[i][1])/2)"
   ]
  },
  {
   "cell_type": "code",
   "execution_count": 6,
   "metadata": {},
   "outputs": [],
   "source": [
    "# thu các điểm ở đầu gối 4605 gối phải 11223 gối trái hai điểm có độ cong cao nhất\n",
    "def getKneePoint():\n",
    "    result = []\n",
    "    for i in range(vertices):\n",
    "        if (0.2*height<plydata_gauss['vertex'][i]['y']<0.35*height) and curvature_data_gauss[i]>=2:\n",
    "            result.append(i)\n",
    "    return result"
   ]
  },
  {
   "cell_type": "code",
   "execution_count": null,
   "metadata": {},
   "outputs": [],
   "source": [
    "a = getKneePoint()\n",
    "a"
   ]
  },
  {
   "cell_type": "markdown",
   "metadata": {},
   "source": [
    "# Kết quả:\n",
    "hai điểm có độ cong đều ở phần gối: 4605 và 11223\n",
    "\n",
    "# Câu hỏi:\n",
    "1. nên thu hoạch điểm từ: cao nhất, biến đổi nhiều nhất, trung bình\n",
    "2. làm gì với đám mây điểm"
   ]
  },
  {
   "cell_type": "code",
   "execution_count": null,
   "metadata": {},
   "outputs": [],
   "source": [
    "fig = plt.figure()\n",
    "ax = plt.axes(projection='3d')\n",
    "for item in records:\n",
    "    ax.scatter3D(item[0], item[1], item[2]);\n",
    "plt.show()"
   ]
  }
 ],
 "metadata": {
  "kernelspec": {
   "display_name": "Python 3.6.10 64-bit ('points': conda)",
   "language": "python",
   "name": "python361064bitpointsconda483ac189efbf40e9a3cd262f7446a353"
  },
  "language_info": {
   "codemirror_mode": {
    "name": "ipython",
    "version": 3
   },
   "file_extension": ".py",
   "mimetype": "text/x-python",
   "name": "python",
   "nbconvert_exporter": "python",
   "pygments_lexer": "ipython3",
   "version": "3.6.10"
  }
 },
 "nbformat": 4,
 "nbformat_minor": 4
}
