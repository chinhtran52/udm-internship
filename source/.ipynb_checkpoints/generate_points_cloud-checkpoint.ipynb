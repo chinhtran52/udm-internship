{
 "nbformat": 4,
 "nbformat_minor": 2,
 "metadata": {
  "language_info": {
   "name": "python",
   "codemirror_mode": {
    "name": "ipython",
    "version": 3
   },
   "version": "3.6.10-final"
  },
  "orig_nbformat": 2,
  "file_extension": ".py",
  "mimetype": "text/x-python",
  "name": "python",
  "npconvert_exporter": "python",
  "pygments_lexer": "ipython3",
  "version": 3,
  "kernelspec": {
   "name": "python361064bitpointsconda483ac189efbf40e9a3cd262f7446a353",
   "display_name": "Python 3.6.10 64-bit ('points': conda)"
  }
 },
 "cells": [
  {
   "cell_type": "code",
   "execution_count": 1,
   "metadata": {},
   "outputs": [],
   "source": [
    "import numpy as np\n",
    "import data_to_plist as dtp\n",
    "import pcd_write as pw\n",
    "\n",
    "#temp\n",
    "import open3d as o3d\n",
    "\n",
    "in_path = './raw points/pose1.dat'\n",
    "out_path = './raw points/pose_1.pcd'"
   ]
  },
  {
   "cell_type": "code",
   "execution_count": 2,
   "metadata": {},
   "outputs": [],
   "source": [
    "#Get data from kinect result\n",
    "data = dtp.generatePoints(in_path)"
   ]
  },
  {
   "cell_type": "code",
   "execution_count": 3,
   "metadata": {},
   "outputs": [],
   "source": [
    "#Remove background\n",
    "new_data = pw.filterBodyPoints(data)\n",
    "pw.writePCD(new_data,out_path)"
   ]
  },
  {
   "cell_type": "code",
   "execution_count": 4,
   "metadata": {},
   "outputs": [],
   "source": [
    "#Filter noise points\n",
    "pcd = o3d.io.read_point_cloud('./raw points/pose_1.pcd')\n",
    "result_cloud = pw.outlierRemoval(pcd)"
   ]
  },
  {
   "cell_type": "code",
   "execution_count": 6,
   "metadata": {},
   "outputs": [],
   "source": [
    "#Save new clean result\n",
    "o3d.io.write_point_cloud(\"./clean points/pose_1.pcd\", result_cloud['inlier'])\n",
    "o3d.visualization.draw_geometries([result_cloud['inlier']])"
   ]
  },
  {
   "cell_type": "code",
   "execution_count": null,
   "metadata": {},
   "outputs": [],
   "source": []
  }
 ]
}