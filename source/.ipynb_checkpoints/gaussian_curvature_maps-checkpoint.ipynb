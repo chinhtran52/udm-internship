{
 "cells": [
  {
   "cell_type": "code",
   "execution_count": 1,
   "metadata": {},
   "outputs": [],
   "source": [
    "import numpy as np\n",
    "import plyfile as ply\n",
    "import matplotlib.pyplot as plt\n",
    "from plyfile import PlyData, PlyElement\n",
    "import math"
   ]
  },
  {
   "cell_type": "code",
   "execution_count": 2,
   "metadata": {},
   "outputs": [],
   "source": [
    "plydata = PlyData.read('sample.ply')"
   ]
  },
  {
   "cell_type": "code",
   "execution_count": 3,
   "metadata": {},
   "outputs": [],
   "source": [
    "curvature_data = np.asarray(plydata['vertex'][:]['quality'])"
   ]
  },
  {
   "cell_type": "code",
   "execution_count": 4,
   "metadata": {},
   "outputs": [
    {
     "name": "stdout",
     "output_type": "stream",
     "text": [
      "4416.384 -18974.576\n"
     ]
    }
   ],
   "source": [
    "max_value = np.amax(curvature_data)\n",
    "min_value = np.amin(curvature_data)\n",
    "print(max_value,min_value)"
   ]
  },
  {
   "cell_type": "code",
   "execution_count": 118,
   "metadata": {},
   "outputs": [],
   "source": [
    "switcher = {\n",
    "    1: [255,0,0,255],\n",
    "    2: [255,128,0,255],\n",
    "    3: [255,255,0,255],\n",
    "    4: [128,255,0,255],\n",
    "    5: [0,255,0,255],\n",
    "    6: [0,255,128,255],\n",
    "    7: [0,255,255,255],\n",
    "    8: [0,128,255,255],\n",
    "    9: [0,0,255,255],\n",
    "    'white': [255,255,255,255],\n",
    "}"
   ]
  },
  {
   "cell_type": "code",
   "execution_count": 149,
   "metadata": {},
   "outputs": [],
   "source": [
    "def getColor(curvature_value,max_value,min_value):\n",
    "#     range_value = max_value - min_value\n",
    "#     delta = (curvature_value - min_value)*100/range_value\n",
    "#     #color red green blue alpha\n",
    "#     m = math.ceil(np.floor(delta))\n",
    "#     if delta < 80:\n",
    "#         return switcher[0];\n",
    "    if 0<=curvature_value:\n",
    "        if curvature_value<0.1:\n",
    "            return switcher[5]\n",
    "        else:\n",
    "            if curvature_value<0.5:\n",
    "                return switcher[4]\n",
    "            else:\n",
    "                if curvature_value<1:\n",
    "                    return switcher[3]\n",
    "                else:\n",
    "                    if curvature_value<2:\n",
    "                        return switcher[2]\n",
    "                    else:\n",
    "                        return switcher[1]\n",
    "    else:\n",
    "        if curvature_value>-0.1:\n",
    "            return switcher[5]\n",
    "        else:\n",
    "            if curvature_value>-0.5:\n",
    "                return switcher[6]\n",
    "            else:\n",
    "                if curvature_value>-1:\n",
    "                    return switcher[7]\n",
    "                else:\n",
    "                    if curvature_value>-2:\n",
    "                        return switcher[8]\n",
    "                    else:\n",
    "                        return switcher[9]"
   ]
  },
  {
   "cell_type": "code",
   "execution_count": 150,
   "metadata": {},
   "outputs": [],
   "source": [
    "records = [0,0,0,0,0,0,0,0,0,0]\n",
    "for index in range(plydata['vertex'].count):\n",
    "    color = getColor(curvature_data[index],max_value,min_value)\n",
    "    plydata['vertex'][index]['red'] = color[0]\n",
    "    plydata['vertex'][index]['green'] = color[1]\n",
    "    plydata['vertex'][index]['blue'] = color[2]\n",
    "    plydata['vertex'][index]['alpha'] = color[3]"
   ]
  },
  {
   "cell_type": "code",
   "execution_count": 151,
   "metadata": {},
   "outputs": [],
   "source": [
    "plydata.write('gaussian_pose_7.ply')"
   ]
  },
  {
   "cell_type": "code",
   "execution_count": 71,
   "metadata": {},
   "outputs": [
    {
     "data": {
      "image/png": "[encoded data removed]",
      "text/plain": [
       "<Figure size 432x288 with 1 Axes>"
      ]
     },
     "metadata": {
      "needs_background": "light"
     },
     "output_type": "display_data"
    }
   ],
   "source": [
    "#display records\n",
    "y_pos = np.arange(10)\n",
    "plt.bar(y_pos, records, align='center', alpha=0.5)\n",
    "plt.xticks(y_pos)\n",
    "plt.title(\"Curvature records\")\n",
    "\n",
    "plt.show()"
   ]
  },
  {
   "cell_type": "code",
   "execution_count": null,
   "metadata": {},
   "outputs": [],
   "source": []
  }
 ],
 "metadata": {
  "kernelspec": {
   "display_name": "Python 3",
   "language": "python",
   "name": "python3"
  },
  "language_info": {
   "codemirror_mode": {
    "name": "ipython",
    "version": 3
   },
   "file_extension": ".py",
   "mimetype": "text/x-python",
   "name": "python",
   "nbconvert_exporter": "python",
   "pygments_lexer": "ipython3",
   "version": "3.6.10"
  }
 },
 "nbformat": 4,
 "nbformat_minor": 4
}
