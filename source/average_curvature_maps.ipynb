{
 "cells": [
  {
   "cell_type": "code",
   "execution_count": 6,
   "metadata": {},
   "outputs": [],
   "source": [
    "import numpy as np\n",
    "import utilities as uti\n",
    "from plyfile import PlyData, PlyElement\n",
    "\n",
    "import sys\n",
    "sys.path.insert(1, './Colors')\n",
    "import realman_gaussian_color as rgc\n",
    "import gradient_color as gdc\n",
    "import gaussian_color as gc\n",
    "\n",
    "curvarute_type = 'gauss'\n",
    "cam = np.array([0,0,0])\n",
    "height = 400\n",
    "width = int(height*0.5)\n",
    "poses = 24"
   ]
  },
  {
   "cell_type": "code",
   "execution_count": 8,
   "metadata": {},
   "outputs": [],
   "source": [
    "from PIL import Image\n",
    "def projectImage(data,direction=False):\n",
    "    frame = np.zeros((height, width, 3), dtype=np.uint8)\n",
    "    frame[:,:] = np.array([0,0,255])\n",
    "    for i in range(len(data)):\n",
    "        for j in range(len(data[0])):\n",
    "            if not np.isnan(data[i][j]):\n",
    "                frame[i][j] = np.array([0,0,0.5])*255\n",
    "    img = Image.fromarray(frame, 'HSV')\n",
    "    if direction:\n",
    "        img.save(direction)\n",
    "    img.show()\n",
    "    return frame"
   ]
  },
  {
   "cell_type": "code",
   "execution_count": 9,
   "metadata": {},
   "outputs": [],
   "source": [
    "def interpolate(raw,radius=1):\n",
    "    data = raw.copy()\n",
    "    h = len(data)\n",
    "    w = len(data[0])\n",
    "    for i in range(h):\n",
    "        for j in range(w):\n",
    "            if getBorder(i,j,data) and np.isnan(data[i][j]):\n",
    "                subarray = data[i-radius:i+radius+1,j-radius:j+radius+1]\n",
    "                if np.count_nonzero(~np.isnan(subarray))<1:\n",
    "                    print(\"point :\"+str(i)+\",\"+str(j)+\" is isolated!\")\n",
    "                else:\n",
    "                    data[i][j] = np.nansum(subarray)/np.count_nonzero(~np.isnan(subarray))\n",
    "    return data\n",
    "\n",
    "def getBorder(x,y,data):\n",
    "    row = data[x]\n",
    "    col = data[:,y]\n",
    "    top = [np.NaN,np.NaN]\n",
    "    bot = [np.NaN,np.NaN]\n",
    "    right = [np.NaN,np.NaN]\n",
    "    left = [np.NaN,np.NaN]\n",
    "    h = len(data)\n",
    "    w = len(data[0])\n",
    "    for i in range(h):\n",
    "        if np.isnan(top[1]):\n",
    "            top[1] = col[i]\n",
    "            top[0] = i\n",
    "        if np.isnan(bot[1]):\n",
    "            bot[1] = col[h - 1 - i]\n",
    "            bot[0] = h -1 - i\n",
    "    for i in range(w):\n",
    "        if np.isnan(left[1]):\n",
    "            left[1] = row[i]\n",
    "            left[0] = i\n",
    "        if np.isnan(right[1]):\n",
    "            right[1] = row[w - 1 - i]\n",
    "            right[0] = w - 1 - i\n",
    "    return (left[0]<y<right[0]) and (top[0]<x<bot[0])"
   ]
  },
  {
   "cell_type": "markdown",
   "metadata": {},
   "source": [
    "## Init for real data\n",
    "    def init(index):\n",
    "        plydata = PlyData.read('./Mesh/results/jean normal/nonback_'+curvarute_type+'_pose_'+str(index)+'.ply')\n",
    "        points = np.zeros((plydata['vertex'].count,2))\n",
    "        values = plydata['vertex']['quality']\n",
    "        points[:,0] = plydata['vertex']['x']\n",
    "        points[:,1] = plydata['vertex']['y']\n",
    "        center = [np.average(points[:,0]),np.average(points[:,1])]\n",
    "        points[:,0] = np.around((points[:,0] - center[0])*100 + width/2)\n",
    "        points[:,1] = np.around((points[:,1] - center[1])*100 + height/2)\n",
    "        return points,values"
   ]
  },
  {
   "cell_type": "code",
   "execution_count": 10,
   "metadata": {},
   "outputs": [],
   "source": [
    "## Init for simulation\n",
    "    def init(index):\n",
    "        dic = './Mesh/results/24 frames/fg'+str(index)+'.ply'\n",
    "        points,values = uti.filterBack(dic)\n",
    "        center = [np.average(points[:,0]),np.average(points[:,1])]\n",
    "        points[:,0] = np.around((points[:,0] - center[0])*10*2 + width/2)       # axis x\n",
    "        points[:,1] = np.around((points[:,1] - center[1])*10*2 + height/2 + 40)    # axix y and 20 is the space at bottom\n",
    "        return points,values"
   ]
  },
  {
   "cell_type": "code",
   "execution_count": 11,
   "metadata": {
    "tags": [
     "outputPrepend",
     "outputPrepend",
     "outputPrepend"
    ]
   },
   "outputs": [],
   "source": [
    "# Main\n",
    "frame = np.empty((height, width))\n",
    "frame[:,:] = np.NaN\n",
    "for i in range(poses):\n",
    "    points,values = init(i+1)\n",
    "    for i in range(len(values)):\n",
    "        if np.isnan(frame[height-int(points[i][1])][int(points[i][0])]):\n",
    "            frame[height-int(points[i][1])][int(points[i][0])] = values[i]\n",
    "        else:\n",
    "            frame[height-int(points[i][1])][int(points[i][0])] += values[i]\n",
    "    # # interpolate before calc average\n",
    "    # frame = interpolate(frame,3)"
   ]
  },
  {
   "cell_type": "markdown",
   "metadata": {},
   "source": [
    "    import pandas as pd\n",
    "    df = pd.DataFrame(data=frame)\n",
    "    alter = df.interpolate(method='nearest').to_numpy()"
   ]
  },
  {
   "cell_type": "code",
   "execution_count": 12,
   "metadata": {},
   "outputs": [],
   "source": [
    "result = projectImage(frame)"
   ]
  },
  {
   "cell_type": "code",
   "execution_count": null,
   "metadata": {},
   "outputs": [],
   "source": [
    "> The overriding design goal for Markdown's\n",
    "> formatting syntax is to make it as readable\n",
    "> as possible. The idea is that a\n",
    "> Markdown-formatted document should be\n",
    "> publishable as-is, as plain text, without\n",
    "> looking like it's been marked up with tags\n",
    "> or formatting instructions."
   ]
  },
  {
   "cell_type": "markdown",
   "metadata": {},
   "source": [
    "    #alter = interpolate(raw,2)\n",
    "    alter = np.nan_to_num(raw)\n",
    "    frame2 = projectImage(alter,'./Images/gauss_sim_fixed_24frames.png')"
   ]
  }
 ],
 "metadata": {
  "language_info": {
   "name": "python",
   "codemirror_mode": {
    "name": "ipython",
    "version": 3
   },
   "version": "3.6.10-final"
  },
  "orig_nbformat": 2,
  "file_extension": ".py",
  "mimetype": "text/x-python",
  "name": "python",
  "npconvert_exporter": "python",
  "pygments_lexer": "ipython3",
  "version": 3,
  "kernelspec": {
   "name": "python361064bitmontlconda0c79a70599ec4c2ca3c6b5b5b010cf4c",
   "display_name": "Python 3.6.10 64-bit ('montl': conda)"
  }
 },
 "nbformat": 4,
 "nbformat_minor": 2
}