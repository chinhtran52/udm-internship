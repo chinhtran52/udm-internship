{
 "nbformat": 4,
 "nbformat_minor": 2,
 "metadata": {
  "language_info": {
   "name": "python",
   "codemirror_mode": {
    "name": "ipython",
    "version": 3
   },
   "version": "3.6.10-final"
  },
  "orig_nbformat": 2,
  "file_extension": ".py",
  "mimetype": "text/x-python",
  "name": "python",
  "npconvert_exporter": "python",
  "pygments_lexer": "ipython3",
  "version": 3,
  "kernelspec": {
   "name": "python361064bitmontlconda0c79a70599ec4c2ca3c6b5b5b010cf4c",
   "display_name": "Python 3.6.10 64-bit ('montl': conda)"
  }
 },
 "cells": [
  {
   "cell_type": "code",
   "execution_count": 1,
   "metadata": {},
   "outputs": [],
   "source": [
    "import numpy as np\n",
    "import open3d as o3d\n",
    "import utilities as uti\n",
    "from plyfile import PlyData, PlyElement\n",
    "\n",
    "import sys\n",
    "sys.path.insert(1, './Colors')\n",
    "import realman_gaussian_color as rgc\n",
    "\n",
    "curvarute_type = 'gauss'\n",
    "cam = np.array([0,0,0])\n",
    "height = 200\n",
    "width = 100\n",
    "\n",
    "data = np.zeros((height, width,2))\n",
    "data[:,:,0] = None"
   ]
  },
  {
   "cell_type": "code",
   "execution_count": 2,
   "metadata": {},
   "outputs": [],
   "source": [
    "from PIL import Image\n",
    "def projectImage(data):\n",
    "    frame = np.zeros((height, width, 3), dtype=np.uint8)\n",
    "    frame = frame + 255\n",
    "    for i in range(height):\n",
    "        for j in range(width):\n",
    "            if not np.isnan(data[i][j]):\n",
    "                color = rgc.getColor(data[i][j])\n",
    "                frame[i][j] = np.array(color[0:3])\n",
    "    img = Image.fromarray(frame, 'RGB')\n",
    "    #img.save('my.png')\n",
    "    img.show()\n",
    "\n",
    "def computeAverageCurvature(data):\n",
    "    curvatures = data[:,:,0]\n",
    "    count = data[:,:,1]\n",
    "    for i in range(height):\n",
    "        for j in range(width):\n",
    "            if not np.isnan(curvatures[i][j]):\n",
    "                curvatures[i][j] = curvatures[i][j]/count[i][j]\n",
    "    return curvatures"
   ]
  },
  {
   "cell_type": "code",
   "execution_count": 3,
   "metadata": {},
   "outputs": [],
   "source": [
    "# Main loop\n",
    "for i in range(3,4):\n",
    "    plydata = PlyData.read('./Mesh/results/jean normal/nonback_'+curvarute_type+'_pose_'+str(i)+'.ply')\n",
    "    points = np.zeros((plydata['vertex'].count,2))\n",
    "    values = plydata['vertex']['quality']\n",
    "    points[:,0] = plydata['vertex']['x']\n",
    "    points[:,1] = plydata['vertex']['y']\n",
    "    center = [np.average(points[:,0]),np.average(points[:,1])]\n",
    "    points[:,0] = np.around((points[:,0] - center[0])*width + width/2)\n",
    "    points[:,1] = np.around((points[:,1] - center[1])*width + width)\n",
    "\n",
    "    for i in range(len(values)):\n",
    "        if np.isnan(data[height-int(points[i][1])][width-int(points[i][0])][0]):\n",
    "            data[height-int(points[i][1])][width-int(points[i][0])][0] = values[i]\n",
    "        else:\n",
    "            data[height-int(points[i][1])][width-int(points[i][0])][0] += values[i]\n",
    "        data[height-int(points[i][1])][width-int(points[i][0])][1] += 1"
   ]
  },
  {
   "cell_type": "code",
   "execution_count": 4,
   "metadata": {},
   "outputs": [],
   "source": [
    "result = computeAverageCurvature(data)\n",
    "projectImage(result)"
   ]
  },
  {
   "cell_type": "markdown",
   "metadata": {
    "tags": [
     "outputPrepend"
    ]
   },
   "source": [
    "# importing pandas as pd \n",
    "import pandas as pd \n",
    "\n",
    "# Creating the dataframe \n",
    "df = pd.DataFrame(data=data)\n",
    "# for i in df:\n",
    "# \tdf[i] = df[i].interpolate(method ='cubic')\n",
    "# inter_data = df.interpolate(method ='linear', limit_direction ='backward').to_numpy()"
   ]
  }
 ]
}