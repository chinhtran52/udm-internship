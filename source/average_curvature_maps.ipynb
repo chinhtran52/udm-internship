{
 "nbformat": 4,
 "nbformat_minor": 2,
 "metadata": {
  "language_info": {
   "name": "python",
   "codemirror_mode": {
    "name": "ipython",
    "version": 3
   },
   "version": "3.6.10-final"
  },
  "orig_nbformat": 2,
  "file_extension": ".py",
  "mimetype": "text/x-python",
  "name": "python",
  "npconvert_exporter": "python",
  "pygments_lexer": "ipython3",
  "version": 3,
  "kernelspec": {
   "name": "python361064bitmontlconda0c79a70599ec4c2ca3c6b5b5b010cf4c",
   "display_name": "Python 3.6.10 64-bit ('montl': conda)"
  }
 },
 "cells": [
  {
   "cell_type": "code",
   "execution_count": 1,
   "metadata": {},
   "outputs": [],
   "source": [
    "import numpy as np\n",
    "import utilities as uti\n",
    "from plyfile import PlyData, PlyElement\n",
    "\n",
    "import sys\n",
    "sys.path.insert(1, './Colors')\n",
    "import realman_gaussian_color as rgc\n",
    "import gradient_color as gdc\n",
    "import gaussian_color as gc\n",
    "\n",
    "curvarute_type = 'gauss'\n",
    "cam = np.array([0,0,0])\n",
    "height = 200\n",
    "width = int(height*0.5)"
   ]
  },
  {
   "cell_type": "code",
   "execution_count": 2,
   "metadata": {},
   "outputs": [],
   "source": [
    "from PIL import Image\n",
    "def projectImage(data,direction=False):\n",
    "    frame = np.zeros((height, width, 3), dtype=np.uint8)\n",
    "    frame = frame + 255\n",
    "    for i in range(height):\n",
    "        for j in range(width):\n",
    "            if not np.isnan(data[i][j]):\n",
    "                color = gdc.getColor(value=data[i][j],lowest=-0.5,highest=0.55)\n",
    "                frame[i][j] = np.array(color)\n",
    "                # color = rgc.getColor(data[i][j])\n",
    "                # frame[i][j] = np.array(color[0:3])\n",
    "    img = Image.fromarray(frame, 'RGB')\n",
    "    # if direction:\n",
    "    #     img.save(direction)\n",
    "    img.show()\n",
    "    return frame\n",
    "\n",
    "def computeAverageCurvature(data):\n",
    "    curvatures = data[:,:,0]\n",
    "    count = data[:,:,1]\n",
    "    for i in range(height):\n",
    "        for j in range(width):\n",
    "            if not np.isnan(curvatures[i][j]):\n",
    "                curvatures[i][j] = curvatures[i][j]/24\n",
    "    return curvatures"
   ]
  },
  {
   "cell_type": "code",
   "execution_count": 3,
   "metadata": {},
   "outputs": [],
   "source": [
    "def interpolate(raw,radius=1):\n",
    "    data = raw.copy()\n",
    "    h = len(data)\n",
    "    w = len(data[0])\n",
    "    for i in range(h):\n",
    "        for j in range(w):\n",
    "            if getBorder(i,j,data) and np.isnan(data[i][j]):\n",
    "                subarray = data[i-radius:i+radius+1,j-radius:j+radius+1]\n",
    "                if np.count_nonzero(~np.isnan(subarray))<1:\n",
    "                    print(\"point :\"+str(i)+\",\"+str(j)+\" is isolated!\")\n",
    "                else:\n",
    "                    data[i][j] = np.nansum(subarray)/np.count_nonzero(~np.isnan(subarray))\n",
    "    return data\n",
    "\n",
    "def getBorder(x,y,data):\n",
    "    row = data[x]\n",
    "    col = data[:,y]\n",
    "    top = [np.NaN,np.NaN]\n",
    "    bot = [np.NaN,np.NaN]\n",
    "    right = [np.NaN,np.NaN]\n",
    "    left = [np.NaN,np.NaN]\n",
    "    h = len(data)\n",
    "    w = len(data[0])\n",
    "    for i in range(h):\n",
    "        if np.isnan(top[1]):\n",
    "            top[1] = col[i]\n",
    "            top[0] = i\n",
    "        if np.isnan(bot[1]):\n",
    "            bot[1] = col[h - 1 - i]\n",
    "            bot[0] = h -1 - i\n",
    "    for i in range(w):\n",
    "        if np.isnan(left[1]):\n",
    "            left[1] = row[i]\n",
    "            left[0] = i\n",
    "        if np.isnan(right[1]):\n",
    "            right[1] = row[w - 1 - i]\n",
    "            right[0] = w - 1 - i\n",
    "    return (left[0]<y<right[0]) and (top[0]<x<bot[0])"
   ]
  },
  {
   "cell_type": "markdown",
   "metadata": {},
   "source": [
    "## Init for real data\n",
    "    def init(index):\n",
    "        plydata = PlyData.read('./Mesh/results/jean normal/nonback_'+curvarute_type+'_pose_'+str(index)+'.ply')\n",
    "        points = np.zeros((plydata['vertex'].count,2))\n",
    "        values = plydata['vertex']['quality']\n",
    "        points[:,0] = plydata['vertex']['x']\n",
    "        points[:,1] = plydata['vertex']['y']\n",
    "        center = [np.average(points[:,0]),np.average(points[:,1])]\n",
    "        points[:,0] = np.around((points[:,0] - center[0])*100 + width/2)\n",
    "        points[:,1] = np.around((points[:,1] - center[1])*100 + height/2)\n",
    "        return points,values"
   ]
  },
  {
   "cell_type": "code",
   "execution_count": 4,
   "metadata": {},
   "outputs": [],
   "source": [
    "## Init for simulation\n",
    "    def init(index):\n",
    "        dic = './Mesh/results/24 frames/fg'+str(index)+'.ply'\n",
    "        points,values = uti.filterBack(dic)\n",
    "        center = [np.average(points[:,0]),np.average(points[:,1])]\n",
    "        points[:,0] = np.around((points[:,0] - center[0])*10 + width/2)       # axis x\n",
    "        points[:,1] = np.around((points[:,1] - center[1])*10 + height/2 + 20)    # axix y and 20 is the space at bottom\n",
    "        return points,values"
   ]
  },
  {
   "cell_type": "code",
   "execution_count": 5,
   "metadata": {
    "tags": [
     "outputPrepend",
     "outputPrepend",
     "outputPrepend"
    ]
   },
   "outputs": [],
   "source": [
    "# Main\n",
    "data = np.zeros((height, width,2))\n",
    "data[:,:,0] = None\n",
    "for i in range(1,25):\n",
    "    points,values = init(i)\n",
    "    for i in range(len(values)):\n",
    "        if np.isnan(data[height-int(points[i][1])][width-int(points[i][0])][0]):\n",
    "            data[height-int(points[i][1])][width-int(points[i][0])][0] = values[i]\n",
    "        else:\n",
    "            data[height-int(points[i][1])][width-int(points[i][0])][0] += values[i]\n",
    "        data[height-int(points[i][1])][width-int(points[i][0])][1] += 1\n",
    "    # # interpolate before calc average\n",
    "    # data[:,:,0] = interpolate(data[:,:,0],2)str()i+'',...eding"
   ]
  },
  {
   "cell_type": "code",
   "execution_count": 6,
   "metadata": {
    "tags": [
     "outputPrepend",
     "outputPrepend",
     "outputPrepend"
    ]
   },
   "outputs": [],
   "source": [
    "raw = computeAverageCurvature(data)\n",
    "frame1 = projectImage(raw,'./Images/raw_image_24frames.png')"
   ]
  },
  {
   "cell_type": "markdown",
   "metadata": {},
   "source": [
    "alter = interpolate(raw,2)\n",
    "#alter = np.nan_to_num(alter)\n",
    "frame2 = projectImage(alter,'./Images/gauss_sim_fixed_24frames.png')"
   ]
  },
  {
   "cell_type": "markdown",
   "metadata": {},
   "source": [
    "    import pandas as pd\n",
    "    df = pd.DataFrame(data=raw)\n",
    "    alter2 = df.interpolate(method='nearest').to_numpy()\n",
    "    frame3 = projectImage(alter2,'./Images/alter_interpolate_2.png')"
   ]
  }
 ]
}