{
 "cells": [
  {
   "cell_type": "code",
   "execution_count": 2,
   "metadata": {},
   "outputs": [],
   "source": [
    "import numpy as np\n",
    "import data_to_plist as dtp\n",
    "import pcd_write as pw\n",
    "\n",
    "#temp\n",
    "import open3d as o3d"
   ]
  },
  {
   "cell_type": "code",
   "execution_count": 15,
   "metadata": {},
   "outputs": [],
   "source": [
    "for i in range(7,8):\n",
    "    in_path = './Points/raw points/pose_'+str(i)+'.dat'\n",
    "    out_path = './Points/raw points/pose_'+str(i)+'.pcd'\n",
    "    #Get data from kinect result\n",
    "    data = dtp.generatePoints(in_path)\n",
    "    #Remove background\n",
    "    new_data = pw.filterBodyPoints(data)\n",
    "    pw.writePCD(new_data,out_path)\n",
    "    #Filter noise points\n",
    "    pcd = o3d.io.read_point_cloud('./Points/raw points/pose_'+str(i)+'.pcd')\n",
    "    result_cloud = pw.outlierRemoval(pcd,90,1)  #input,neighbor,ratio\n",
    "    #o3d.visualization.draw_geometries([result_cloud['inlier']])\n",
    "    #Save new clean result\n",
    "    o3d.io.write_point_cloud(\"./Points/clean points/pose_\"+str(i)+\".ply\", result_cloud['inlier'])\n",
    "    # giảm tỷ lệ lấy mẫu\n",
    "    dwn_pcl = result_cloud['inlier'].voxel_down_sample(voxel_size=0.05)\n",
    "    o3d.visualization.draw_geometries([dwn_pcl])\n",
    "    o3d.io.write_point_cloud(\"./Points/clean points/dwnsample_pose_\"+str(i)+\".ply\", dwn_pcl)"
   ]
  },
  {
   "cell_type": "code",
   "execution_count": null,
   "metadata": {},
   "outputs": [],
   "source": []
  }
 ],
 "metadata": {
  "file_extension": ".py",
  "kernelspec": {
   "display_name": "Python 3.6.10 64-bit ('montl': conda)",
   "language": "python",
   "name": "python361064bitmontlconda0c79a70599ec4c2ca3c6b5b5b010cf4c"
  },
  "language_info": {
   "codemirror_mode": {
    "name": "ipython",
    "version": 3
   },
   "file_extension": ".py",
   "mimetype": "text/x-python",
   "name": "python",
   "nbconvert_exporter": "python",
   "pygments_lexer": "ipython3",
   "version": "3.6.10-final"
  },
  "mimetype": "text/x-python",
  "name": "python",
  "npconvert_exporter": "python",
  "pygments_lexer": "ipython3",
  "version": 3
 },
 "nbformat": 4,
 "nbformat_minor": 4
}