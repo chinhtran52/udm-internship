{
 "cells": [
  {
   "cell_type": "code",
   "execution_count": 1,
   "metadata": {},
   "outputs": [],
   "source": [
    "import numpy as np\n",
    "import data_to_plist as dtp\n",
    "import pcd_write as pw\n",
    "\n",
    "#temp\n",
    "import open3d as o3d\n",
    "\n",
    "in_path = './raw points/pose1.dat'\n",
    "out_path = './raw points/pose_1.pcd'"
   ]
  },
  {
   "cell_type": "code",
   "execution_count": 2,
   "metadata": {},
   "outputs": [],
   "source": [
    "#Get data from kinect result\n",
    "data = dtp.generatePoints(in_path)"
   ]
  },
  {
   "cell_type": "code",
   "execution_count": 3,
   "metadata": {},
   "outputs": [],
   "source": [
    "#Remove background\n",
    "new_data = pw.filterBodyPoints(data)\n",
    "pw.writePCD(new_data,out_path)"
   ]
  },
  {
   "cell_type": "code",
   "execution_count": 4,
   "metadata": {},
   "outputs": [],
   "source": [
    "#Filter noise points\n",
    "pcd = o3d.io.read_point_cloud('./raw points/pose_1.pcd')\n",
    "result_cloud = pw.outlierRemoval(pcd)"
   ]
  },
  {
   "cell_type": "code",
   "execution_count": 14,
   "metadata": {},
   "outputs": [],
   "source": [
    "#Save new clean result\n",
    "o3d.io.write_point_cloud(\"./clean points/pose_1.ply\", result_cloud['inlier'])\n",
    "o3d.visualization.draw_geometries([result_cloud['inlier']])"
   ]
  },
  {
   "cell_type": "code",
   "execution_count": 9,
   "metadata": {},
   "outputs": [
    {
     "data": {
      "text/plain": "True"
     },
     "execution_count": 9,
     "metadata": {},
     "output_type": "execute_result"
    }
   ],
   "source": [
    "# giảm tỷ lệ lấy mẫu\n",
    "dwn_pcl = result_cloud['inlier'].voxel_down_sample(voxel_size=0.02)\n",
    "o3d.visualization.draw_geometries([dwn_pcl])\n",
    "o3d.io.write_point_cloud(\"./clean points/dwnsample_pose_1.ply\", dwn_pcl)"
   ]
  },
  {
   "cell_type": "code",
   "execution_count": 22,
   "metadata": {},
   "outputs": [],
   "source": [
    "def duplicateSurface(numny_array_points):\n",
    "    temp = []\n",
    "    for i in numny_array_points:\n",
    "        #temp.append(i)\n",
    "        temp.append([i[0],i[1],i[2]+0.02])\n",
    "    return np.asarray(temp)"
   ]
  },
  {
   "cell_type": "code",
   "execution_count": 23,
   "metadata": {},
   "outputs": [],
   "source": [
    "temp = np.asarray(dwn_pcl.points)\n",
    "new_points = duplicateSurface(temp)\n",
    "new_pcl = o3d.geometry.PointCloud()\n",
    "new_pcl.points = o3d.utility.Vector3dVector(new_points)\n",
    "dwn_pcl.paint_uniform_color([1, 0, 0])\n",
    "new_pcl.paint_uniform_color([0.8, 0.8, 0.8])\n",
    "o3d.visualization.draw_geometries([dwn_pcl, new_pcl])\n",
    "#o3d.io.write_point_cloud(\"./clean points/dupback_pose_1.ply\", new_pcl)"
   ]
  },
  {
   "cell_type": "code",
   "execution_count": null,
   "metadata": {},
   "outputs": [],
   "source": []
  }
 ],
 "metadata": {
  "file_extension": ".py",
  "kernelspec": {
   "display_name": "Python 3.6.10 64-bit ('points': conda)",
   "language": "python",
   "name": "python361064bitpointsconda483ac189efbf40e9a3cd262f7446a353"
  },
  "language_info": {
   "codemirror_mode": {
    "name": "ipython",
    "version": 3
   },
   "file_extension": ".py",
   "mimetype": "text/x-python",
   "name": "python",
   "nbconvert_exporter": "python",
   "pygments_lexer": "ipython3",
   "version": "3.6.10-final"
  },
  "mimetype": "text/x-python",
  "name": "python",
  "npconvert_exporter": "python",
  "pygments_lexer": "ipython3",
  "version": 3
 },
 "nbformat": 4,
 "nbformat_minor": 4
}