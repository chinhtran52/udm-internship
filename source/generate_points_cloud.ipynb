{
 "cells": [
  {
   "cell_type": "code",
   "execution_count": 1,
   "metadata": {},
   "outputs": [],
   "source": [
    "import numpy as np\n",
    "import data_to_plist as dtp\n",
    "import pcd_write as pw\n",
    "\n",
    "#temp\n",
    "import open3d as o3d\n",
    "\n",
    "in_path = './Points/raw points/pose1.dat'\n",
    "out_path = './Points/raw points/pose_1.pcd'"
   ]
  },
  {
   "cell_type": "code",
   "execution_count": 2,
   "metadata": {},
   "outputs": [],
   "source": [
    "#Get data from kinect result\n",
    "data = dtp.generatePoints(in_path)"
   ]
  },
  {
   "cell_type": "code",
   "execution_count": 3,
   "metadata": {},
   "outputs": [],
   "source": [
    "#Remove background\n",
    "new_data = pw.filterBodyPoints(data)\n",
    "pw.writePCD(new_data,out_path)"
   ]
  },
  {
   "cell_type": "code",
   "execution_count": 4,
   "metadata": {},
   "outputs": [],
   "source": [
    "#Filter noise points\n",
    "pcd = o3d.io.read_point_cloud('./Points/raw points/pose_1.pcd')\n",
    "result_cloud = pw.outlierRemoval(pcd)"
   ]
  },
  {
   "cell_type": "code",
   "execution_count": 5,
   "metadata": {},
   "outputs": [],
   "source": [
    "#Save new clean result\n",
    "o3d.io.write_point_cloud(\"./Points/clean points/pose_1.ply\", result_cloud['inlier'])\n",
    "o3d.visualization.draw_geometries([result_cloud['inlier']])"
   ]
  },
  {
   "cell_type": "code",
   "execution_count": 6,
   "metadata": {},
   "outputs": [],
   "source": [
    "# giảm tỷ lệ lấy mẫu\n",
    "dwn_pcl = result_cloud['inlier'].voxel_down_sample(voxel_size=0.02)\n",
    "o3d.visualization.draw_geometries([dwn_pcl])\n",
    "#o3d.io.write_point_cloud(\"./clean points/dwnsample_pose_1.ply\", dwn_pcl)"
   ]
  },
  {
   "cell_type": "code",
   "execution_count": null,
   "metadata": {},
   "outputs": [],
   "source": []
  }
 ],
 "metadata": {
  "file_extension": ".py",
  "kernelspec": {
   "display_name": "Python 3.6.10 64-bit ('montl': conda)",
   "language": "python",
   "name": "python361064bitmontlconda0c79a70599ec4c2ca3c6b5b5b010cf4c"
  },
  "language_info": {
   "codemirror_mode": {
    "name": "ipython",
    "version": 3
   },
   "file_extension": ".py",
   "mimetype": "text/x-python",
   "name": "python",
   "nbconvert_exporter": "python",
   "pygments_lexer": "ipython3",
   "version": "3.6.10-final"
  },
  "mimetype": "text/x-python",
  "name": "python",
  "npconvert_exporter": "python",
  "pygments_lexer": "ipython3",
  "version": 3
 },
 "nbformat": 4,
 "nbformat_minor": 4
}