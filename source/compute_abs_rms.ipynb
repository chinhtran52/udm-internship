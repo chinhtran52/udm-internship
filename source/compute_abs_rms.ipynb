{
 "cells": [
  {
   "cell_type": "code",
   "execution_count": 4,
   "metadata": {},
   "outputs": [],
   "source": [
    "import compute_abs_rms as car"
   ]
  },
  {
   "cell_type": "code",
   "execution_count": 5,
   "metadata": {},
   "outputs": [],
   "source": [
    "frames = 8\n",
    "input_dic = './Mesh/results/8 frames/'\n",
    "rms_dic = './Mesh/RMS Curvature/'\n",
    "abs_dic = './Mesh/ABS Curvature/'"
   ]
  },
  {
   "cell_type": "code",
   "execution_count": 6,
   "metadata": {},
   "outputs": [],
   "source": [
    "car.getPrincipalCurve(frames,input_dic,input_dic,abs_dic,rms_dic)"
   ]
  }
 ],
 "metadata": {
  "language_info": {
   "name": "python",
   "codemirror_mode": {
    "name": "ipython",
    "version": 3
   },
   "version": "3.6.10-final"
  },
  "orig_nbformat": 2,
  "file_extension": ".py",
  "mimetype": "text/x-python",
  "name": "python",
  "npconvert_exporter": "python",
  "pygments_lexer": "ipython3",
  "version": 3,
  "kernelspec": {
   "name": "python361064bitpointsconda483ac189efbf40e9a3cd262f7446a353",
   "display_name": "Python 3.6.10 64-bit ('points': conda)"
  }
 },
 "nbformat": 4,
 "nbformat_minor": 2
}