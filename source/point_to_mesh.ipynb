{
 "cells": [
  {
   "cell_type": "code",
   "execution_count": 7,
   "metadata": {},
   "outputs": [],
   "source": [
    "import numpy as np\n",
    "import open3d as o3d\n",
    "import math\n",
    "import back_surface as back"
   ]
  },
  {
   "cell_type": "code",
   "execution_count": 8,
   "metadata": {},
   "outputs": [],
   "source": [
    "def createPointCloud(points_list):\n",
    "    temp = o3d.geometry.PointCloud()\n",
    "    temp.points = o3d.utility.Vector3dVector(np.asarray(points_list))\n",
    "    return temp\n",
    "\n",
    "def computeNormal(points,cam):\n",
    "    ##search_param=o3d.geometry.KDTreeSearchParamHybrid(radius=0.1, max_nn=30)\n",
    "    points.estimate_normals(search_param=o3d.geometry.KDTreeSearchParamHybrid(radius=0.5, max_nn=9))\n",
    "    points.orient_normals_towards_camera_location(camera_location=cam)\n",
    "\n",
    "def mergeTwoClouds(fcloud,scloud):\n",
    "    points = np.append(np.asarray(fcloud.points),np.asarray(scloud.points),axis=0)\n",
    "    normals = np.append(np.asarray(fcloud.normals),np.asarray(scloud.normals),axis=0)\n",
    "    result = createPointCloud(points)\n",
    "    result.normals = o3d.utility.Vector3dVector(normals)\n",
    "    return result"
   ]
  },
  {
   "cell_type": "markdown",
   "metadata": {},
   "source": [
    "## Main"
   ]
  },
  {
   "cell_type": "code",
   "execution_count": 9,
   "metadata": {},
   "outputs": [
    {
     "output_type": "stream",
     "name": "stdout",
     "text": "run Poisson surface reconstruction\ngeometry::TriangleMesh with 3539 points and 7056 triangles.\nrun Poisson surface reconstruction\ngeometry::TriangleMesh with 3483 points and 6938 triangles.\nrun Poisson surface reconstruction\ngeometry::TriangleMesh with 3410 points and 6805 triangles.\nrun Poisson surface reconstruction\ngeometry::TriangleMesh with 3501 points and 6984 triangles.\nrun Poisson surface reconstruction\ngeometry::TriangleMesh with 3331 points and 6630 triangles.\nrun Poisson surface reconstruction\ngeometry::TriangleMesh with 3492 points and 6941 triangles.\nrun Poisson surface reconstruction\ngeometry::TriangleMesh with 3609 points and 7209 triangles.\nrun Poisson surface reconstruction\ngeometry::TriangleMesh with 3756 points and 7454 triangles.\n"
    }
   ],
   "source": [
    "for i in range(1,9):\n",
    "    pcd = o3d.io.read_point_cloud(\"./Points/clean points/dwnsample_pose_\"+str(i)+\".ply\")\n",
    "\n",
    "    # inverse the surface\n",
    "    points = np.asarray(pcd.points)\n",
    "    behi = back.generateBack(points,0.05,0.1,0.05)\n",
    "    bcd = createPointCloud(behi) #back point cloud\n",
    "\n",
    "    # compute normal vectors\n",
    "    cam_front = np.array([0,0,0])\n",
    "    cam_back = np.array([0,0,10])\n",
    "    computeNormal(pcd,cam_front)\n",
    "    computeNormal(bcd,cam_back)\n",
    "    #o3d.visualization.draw_geometries([pcd,bcd])\n",
    "\n",
    "    #merge 2 surfaces\n",
    "    merge = mergeTwoClouds(pcd,bcd)\n",
    "    #o3d.visualization.draw_geometries([merge])\n",
    "\n",
    "    print('run Poisson surface reconstruction')\n",
    "    mesh, densities = o3d.geometry.TriangleMesh.create_from_point_cloud_poisson(merge, depth=8)\n",
    "    print(mesh)\n",
    "    mesh.compute_vertex_normals()\n",
    "    #o3d.visualization.draw_geometries([mesh])\n",
    "\n",
    "    o3d.io.write_triangle_mesh('./Mesh/Poisson Mesh/normal/pose_'+str(i)+'.ply',mesh)"
   ]
  },
  {
   "cell_type": "markdown",
   "metadata": {},
   "source": [
    "temp = np.asarray(pcd.points)\n",
    "new_points = duplicateSurface(temp)\n",
    "new_pcl = o3d.geometry.PointCloud()\n",
    "new_pcl.points = o3d.utility.Vector3dVector(np.concatenate((temp,new_points)))\n",
    "new_pcl.normals = o3d.utility.Vector3dVector(np.concatenate((np.asarray(pcd.normals),-np.asarray(pcd.normals))))\n",
    "new_pcl.paint_uniform_color([0.8, 0.8, 0.8])\n",
    "#o3d.visualization.draw_geometries([new_pcl])\n",
    "#o3d.io.write_point_cloud(\"./clean points/dupback_pose_1.ply\", new_pcl)"
   ],
   "execution_count": null,
   "outputs": []
  }
 ],
 "metadata": {
  "file_extension": ".py",
  "kernelspec": {
   "display_name": "Python 3.6.10 64-bit ('montl': conda)",
   "language": "python",
   "name": "python361064bitmontlconda0c79a70599ec4c2ca3c6b5b5b010cf4c"
  },
  "language_info": {
   "codemirror_mode": {
    "name": "ipython",
    "version": 3
   },
   "file_extension": ".py",
   "mimetype": "text/x-python",
   "name": "python",
   "nbconvert_exporter": "python",
   "pygments_lexer": "ipython3",
   "version": "3.6.10-final"
  },
  "mimetype": "text/x-python",
  "name": "python",
  "npconvert_exporter": "python",
  "pygments_lexer": "ipython3",
  "version": 3
 },
 "nbformat": 4,
 "nbformat_minor": 4
}