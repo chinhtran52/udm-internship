{
 "cells": [
  {
   "cell_type": "code",
   "execution_count": 1,
   "metadata": {},
   "outputs": [],
   "source": [
    "import numpy as np\n",
    "import open3d as o3d"
   ]
  },
  {
   "cell_type": "code",
   "execution_count": 2,
   "metadata": {},
   "outputs": [],
   "source": [
    "def getCenterPoint(points_list):\n",
    "    count = len(points_list)\n",
    "    #init\n",
    "    center = np.zeros(3)\n",
    "    for i in range(count):\n",
    "        center[0] += points_list[i][0]\n",
    "        center[1] += points_list[i][1]\n",
    "        center[2] += points_list[i][2]\n",
    "    return center/count"
   ]
  },
  {
   "cell_type": "code",
   "execution_count": 3,
   "metadata": {},
   "outputs": [],
   "source": [
    "def displayPoints(points_list):\n",
    "    temp = o3d.geometry.PointCloud()\n",
    "    temp.points = o3d.utility.Vector3dVector(np.asarray(points_list))\n",
    "    o3d.visualization.draw_geometries([temp])"
   ]
  },
  {
   "cell_type": "code",
   "execution_count": 4,
   "metadata": {},
   "outputs": [],
   "source": [
    "def duplicateSurface(numny_array_points):\n",
    "    temp = []\n",
    "    for i in numny_array_points:\n",
    "        temp.append([i[0],i[1],i[2]+0.1])\n",
    "    return np.asarray(temp)"
   ]
  },
  {
   "cell_type": "code",
   "execution_count": 6,
   "metadata": {},
   "outputs": [],
   "source": [
    "pcd = o3d.io.read_point_cloud(\"./clean points/dwnsample_pose_1.ply\")"
   ]
  },
  {
   "cell_type": "code",
   "execution_count": 7,
   "metadata": {},
   "outputs": [
    {
     "output_type": "execute_result",
     "data": {
      "text/plain": "2.3189816079884578"
     },
     "metadata": {},
     "execution_count": 7
    }
   ],
   "source": [
    "center_point = getCenterPoint(np.asarray(pcd.points))\n",
    "center_point[2]"
   ]
  },
  {
   "cell_type": "code",
   "execution_count": 8,
   "metadata": {},
   "outputs": [
    {
     "output_type": "execute_result",
     "data": {
      "text/plain": "True"
     },
     "metadata": {},
     "execution_count": 8
    }
   ],
   "source": [
    "#downpcd.estimate_normals(search_param=o3d.geometry.KDTreeSearchParamHybrid(radius=0.1, max_nn=30))\n",
    "pcd.estimate_normals()\n",
    "pcd.orient_normals_towards_camera_location(camera_location=np.asarray([center_point[0], center_point[1], 0.]))\n",
    "#o3d.visualization.draw_geometries([pcd])"
   ]
  },
  {
   "cell_type": "code",
   "execution_count": 11,
   "metadata": {},
   "outputs": [
    {
     "output_type": "execute_result",
     "data": {
      "text/plain": "geometry::PointCloud with 1122 points."
     },
     "metadata": {},
     "execution_count": 11
    }
   ],
   "source": [
    "temp = np.asarray(pcd.points)\n",
    "new_points = duplicateSurface(temp)\n",
    "new_pcl = o3d.geometry.PointCloud()\n",
    "new_pcl.points = o3d.utility.Vector3dVector(np.concatenate((temp,new_points)))\n",
    "new_pcl.normals = o3d.utility.Vector3dVector(np.concatenate((np.asarray(pcd.normals),-np.asarray(pcd.normals))))\n",
    "new_pcl.paint_uniform_color([0.8, 0.8, 0.8])\n",
    "#o3d.visualization.draw_geometries([new_pcl])\n",
    "#o3d.io.write_point_cloud(\"./clean points/dupback_pose_1.ply\", new_pcl)"
   ]
  },
  {
   "cell_type": "code",
   "execution_count": 12,
   "metadata": {},
   "outputs": [
    {
     "output_type": "stream",
     "name": "stdout",
     "text": "run Poisson surface reconstruction\ngeometry::TriangleMesh with 3617 points and 7050 triangles.\n"
    }
   ],
   "source": [
    "print('run Poisson surface reconstruction')\n",
    "mesh, densities = o3d.geometry.TriangleMesh.create_from_point_cloud_poisson(new_pcl, depth=8)\n",
    "print(mesh)\n",
    "mesh.compute_vertex_normals()\n",
    "o3d.visualization.draw_geometries([mesh])"
   ]
  },
  {
   "cell_type": "code",
   "execution_count": 10,
   "metadata": {},
   "outputs": [],
   "source": [
    "# pcd.estimate_normals()\n",
    "# distances = pcd.compute_nearest_neighbor_distance()\n",
    "# avg_dist = np.mean(distances)\n",
    "# radius = 4*avg_dist\n",
    "# mesh = o3d.geometry.TriangleMesh.create_from_point_cloud_ball_pivoting(\n",
    "#     pcd,\n",
    "#     o3d.utility.DoubleVector([radius,radius*2]))\n",
    "# o3d.visualization.draw_geometries([mesh])"
   ]
  },
  {
   "cell_type": "code",
   "execution_count": 11,
   "metadata": {},
   "outputs": [
    {
     "output_type": "execute_result",
     "data": {
      "text/plain": "True"
     },
     "metadata": {},
     "execution_count": 11
    }
   ],
   "source": [
    "o3d.io.write_triangle_mesh('./Mesh/Poisson Mesh/pose_1.ply',mesh)"
   ]
  },
  {
   "cell_type": "code",
   "execution_count": null,
   "metadata": {},
   "outputs": [],
   "source": []
  }
 ],
 "metadata": {
  "file_extension": ".py",
  "kernelspec": {
   "display_name": "Python 3.6.10 64-bit ('montl': conda)",
   "language": "python",
   "name": "python361064bitmontlconda0c79a70599ec4c2ca3c6b5b5b010cf4c"
  },
  "language_info": {
   "codemirror_mode": {
    "name": "ipython",
    "version": 3
   },
   "file_extension": ".py",
   "mimetype": "text/x-python",
   "name": "python",
   "nbconvert_exporter": "python",
   "pygments_lexer": "ipython3",
   "version": "3.6.10-final"
  },
  "mimetype": "text/x-python",
  "name": "python",
  "npconvert_exporter": "python",
  "pygments_lexer": "ipython3",
  "version": 3
 },
 "nbformat": 4,
 "nbformat_minor": 4
}