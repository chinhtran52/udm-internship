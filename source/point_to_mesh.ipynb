{
 "cells": [
  {
   "cell_type": "code",
   "execution_count": 1,
   "metadata": {},
   "outputs": [],
   "source": [
    "import numpy as np\n",
    "import open3d as o3d\n",
    "import math\n",
    "import back_surface as back"
   ]
  },
  {
   "cell_type": "code",
   "execution_count": 2,
   "metadata": {},
   "outputs": [],
   "source": [
    "def duplicateSurface(numny_array_points):\n",
    "    temp = []\n",
    "    for i in numny_array_points:\n",
    "        temp.append([i[0],i[1],i[2]+0.08])\n",
    "    return np.asarray(temp)\n",
    "\n",
    "def createPointCloud(points_list):\n",
    "    temp = o3d.geometry.PointCloud()\n",
    "    temp.points = o3d.utility.Vector3dVector(np.asarray(points_list))\n",
    "    return temp\n",
    "\n",
    "def getCenterPoint(points_list):\n",
    "    count = len(points_list)\n",
    "    #init\n",
    "    center = np.zeros(3)\n",
    "    for i in range(count):\n",
    "        center[0] += points_list[i][0]\n",
    "        center[1] += points_list[i][1]\n",
    "        center[2] += points_list[i][2]\n",
    "    return center/count\n",
    "\n",
    "def computeNormal(points,cam):\n",
    "    ##search_param=o3d.geometry.KDTreeSearchParamHybrid(radius=0.1, max_nn=30)\n",
    "    points.estimate_normals(search_param=o3d.geometry.KDTreeSearchParamHybrid(radius=0.5, max_nn=9))\n",
    "    points.orient_normals_towards_camera_location(camera_location=cam)\n",
    "    o3d.visualization.draw_geometries([points])\n",
    "\n",
    "def mergeTwoClouds(fcloud,scloud):\n",
    "    points = np.append(np.asarray(fcloud.points),np.asarray(scloud.points),axis=0)\n",
    "    normals = np.append(np.asarray(fcloud.normals),np.asarray(scloud.normals),axis=0)\n",
    "    result = createPointCloud(points)\n",
    "    result.normals = o3d.utility.Vector3dVector(normals)\n",
    "    return result"
   ]
  },
  {
   "cell_type": "code",
   "execution_count": 3,
   "metadata": {},
   "outputs": [],
   "source": [
    "pcd = o3d.io.read_point_cloud(\"./Points/clean points/dwnsample_pose_1.ply\")"
   ]
  },
  {
   "cell_type": "code",
   "execution_count": 18,
   "metadata": {
    "tags": [
     "outputPrepend"
    ]
   },
   "outputs": [],
   "source": [
    "# lật ngược các điểm\n",
    "points = np.asarray(pcd.points)\n",
    "behi = back.generateBack(points,0.05,0.1,0.07)\n",
    "bcd = createPointCloud(behi) #back point cloud"
   ]
  },
  {
   "cell_type": "code",
   "execution_count": 19,
   "metadata": {},
   "outputs": [],
   "source": [
    "cam_front = np.array([0,0,0])\n",
    "cam_back = np.array([0,0,10])\n",
    "computeNormal(pcd,cam_front)\n",
    "computeNormal(bcd,cam_back)\n",
    "o3d.visualization.draw_geometries([pcd,bcd])"
   ]
  },
  {
   "cell_type": "code",
   "execution_count": 20,
   "metadata": {},
   "outputs": [],
   "source": [
    "merge = mergeTwoClouds(pcd,bcd)\n",
    "o3d.visualization.draw_geometries([merge])"
   ]
  },
  {
   "cell_type": "code",
   "execution_count": 21,
   "metadata": {},
   "outputs": [
    {
     "output_type": "stream",
     "name": "stdout",
     "text": "run Poisson surface reconstruction\ngeometry::TriangleMesh with 3469 points and 6912 triangles.\n"
    }
   ],
   "source": [
    "print('run Poisson surface reconstruction')\n",
    "mesh, densities = o3d.geometry.TriangleMesh.create_from_point_cloud_poisson(merge, depth=8)\n",
    "print(mesh)\n",
    "mesh.compute_vertex_normals()\n",
    "o3d.visualization.draw_geometries([mesh])"
   ]
  },
  {
   "cell_type": "code",
   "execution_count": 22,
   "metadata": {},
   "outputs": [
    {
     "output_type": "execute_result",
     "data": {
      "text/plain": "True"
     },
     "metadata": {},
     "execution_count": 22
    }
   ],
   "source": [
    "o3d.io.write_triangle_mesh('./Mesh/Poisson Mesh/pose_1.ply',mesh)"
   ]
  },
  {
   "cell_type": "markdown",
   "metadata": {},
   "source": [
    "temp = np.asarray(pcd.points)\n",
    "new_points = duplicateSurface(temp)\n",
    "new_pcl = o3d.geometry.PointCloud()\n",
    "new_pcl.points = o3d.utility.Vector3dVector(np.concatenate((temp,new_points)))\n",
    "new_pcl.normals = o3d.utility.Vector3dVector(np.concatenate((np.asarray(pcd.normals),-np.asarray(pcd.normals))))\n",
    "new_pcl.paint_uniform_color([0.8, 0.8, 0.8])\n",
    "#o3d.visualization.draw_geometries([new_pcl])\n",
    "#o3d.io.write_point_cloud(\"./clean points/dupback_pose_1.ply\", new_pcl)"
   ],
   "execution_count": null,
   "outputs": []
  }
 ],
 "metadata": {
  "file_extension": ".py",
  "kernelspec": {
   "display_name": "Python 3.6.10 64-bit ('montl': conda)",
   "language": "python",
   "name": "python361064bitmontlconda0c79a70599ec4c2ca3c6b5b5b010cf4c"
  },
  "language_info": {
   "codemirror_mode": {
    "name": "ipython",
    "version": 3
   },
   "file_extension": ".py",
   "mimetype": "text/x-python",
   "name": "python",
   "nbconvert_exporter": "python",
   "pygments_lexer": "ipython3",
   "version": "3.6.10-final"
  },
  "mimetype": "text/x-python",
  "name": "python",
  "npconvert_exporter": "python",
  "pygments_lexer": "ipython3",
  "version": 3
 },
 "nbformat": 4,
 "nbformat_minor": 4
}