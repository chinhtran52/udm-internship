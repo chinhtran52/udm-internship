{
 "cells": [
  {
   "cell_type": "code",
   "execution_count": 2,
   "metadata": {},
   "outputs": [],
   "source": [
    "import numpy as np\n",
    "import open3d as o3d\n",
    "import back_surface as back\n",
    "import utilities as uti"
   ]
  },
  {
   "cell_type": "markdown",
   "metadata": {},
   "source": [
    "## Main"
   ]
  },
  {
   "cell_type": "code",
   "execution_count": 7,
   "metadata": {},
   "outputs": [
    {
     "output_type": "stream",
     "name": "stdout",
     "text": "run Poisson surface reconstruction\ngeometry::TriangleMesh with 3356 points and 6678 triangles.\n"
    }
   ],
   "source": [
    "for i in range(1,9):\n",
    "    pcd = o3d.io.read_point_cloud(\"./Points/clean points/dwnsample_pose_\"+str(i)+\".ply\")\n",
    "\n",
    "    # inverse the surface\n",
    "    points = np.asarray(pcd.points)\n",
    "    behi = back.generateBack(points,0.05,0.1,0.08)\n",
    "    bcd = uti.createPointCloud(behi) #back point cloud\n",
    "\n",
    "    # compute normal vectors\n",
    "    cam_front = np.array([0,0,0])\n",
    "    cam_back = np.array([0,0,10])\n",
    "    uti.computeNormal(pcd,cam_front)\n",
    "    uti.computeNormal(bcd,cam_back)\n",
    "    #o3d.visualization.draw_geometries([pcd,bcd])\n",
    "\n",
    "    #merge 2 surfaces\n",
    "    merge = uti.mergeTwoClouds(pcd,bcd)\n",
    "    #o3d.visualization.draw_geometries([merge])\n",
    "\n",
    "    print('run Poisson surface reconstruction')\n",
    "    mesh, densities = o3d.geometry.TriangleMesh.create_from_point_cloud_poisson(merge, depth=8)\n",
    "    print(mesh)\n",
    "    mesh.compute_vertex_normals()\n",
    "    #o3d.visualization.draw_geometries([mesh])\n",
    "    #o3d.io.write_triangle_mesh('./Mesh/Poisson Mesh/normal/pose_'+str(i)+'.ply',mesh)\n",
    "    mesh = uti.removeBacksurface(mesh,cam_front)\n",
    "    o3d.io.write_triangle_mesh('./Mesh/Removed Backsurface/Jean normal/pose_'+str(i)+'.ply',mesh)"
   ]
  },
  {
   "cell_type": "markdown",
   "metadata": {},
   "source": [
    "temp = np.asarray(pcd.points)\n",
    "new_points = duplicateSurface(temp)\n",
    "new_pcl = o3d.geometry.PointCloud()\n",
    "new_pcl.points = o3d.utility.Vector3dVector(np.concatenate((temp,new_points)))\n",
    "new_pcl.normals = o3d.utility.Vector3dVector(np.concatenate((np.asarray(pcd.normals),-np.asarray(pcd.normals))))\n",
    "new_pcl.paint_uniform_color([0.8, 0.8, 0.8])\n",
    "#o3d.visualization.draw_geometries([new_pcl])\n",
    "#o3d.io.write_point_cloud(\"./clean points/dupback_pose_1.ply\", new_pcl)"
   ],
   "execution_count": null,
   "outputs": []
  }
 ],
 "metadata": {
  "file_extension": ".py",
  "kernelspec": {
   "display_name": "Python 3.6.10 64-bit ('montl': conda)",
   "language": "python",
   "name": "python361064bitmontlconda0c79a70599ec4c2ca3c6b5b5b010cf4c"
  },
  "language_info": {
   "codemirror_mode": {
    "name": "ipython",
    "version": 3
   },
   "file_extension": ".py",
   "mimetype": "text/x-python",
   "name": "python",
   "nbconvert_exporter": "python",
   "pygments_lexer": "ipython3",
   "version": "3.6.10-final"
  },
  "mimetype": "text/x-python",
  "name": "python",
  "npconvert_exporter": "python",
  "pygments_lexer": "ipython3",
  "version": 3
 },
 "nbformat": 4,
 "nbformat_minor": 4
}