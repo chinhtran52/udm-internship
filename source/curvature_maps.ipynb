{
 "cells": [
  {
   "cell_type": "code",
   "execution_count": 1,
   "metadata": {},
   "outputs": [],
   "source": [
    "import numpy as np\n",
    "import plyfile as ply\n",
    "from plyfile import PlyData, PlyElement\n",
    "\n",
    "#gaussian\n",
    "import gaussian_color as gauss\n",
    "\n",
    "#mean\n",
    "import mean_color as mean\n",
    "\n",
    "#root square\n",
    "import rms_color as rms\n",
    "\n",
    "#absolute\n",
    "import abs_color as abc"
   ]
  },
  {
   "cell_type": "code",
   "execution_count": 2,
   "metadata": {},
   "outputs": [],
   "source": [
    "#get Color\n",
    "for i in range(8):\n",
    "    file_name = 'pose_'+str(i+1)+'.ply'\n",
    "    plydata = PlyData.read('./Mesh/Gauss Curvature/half/'+file_name)\n",
    "    curvature_data = np.asarray(plydata['vertex'][:]['quality'])\n",
    "    for index in range(plydata['vertex'].count):\n",
    "        #print(curvature_data[index])\n",
    "        color = gauss.getColor(curvature_data[index])\n",
    "        plydata['vertex'][index]['red'] = color[0]\n",
    "        plydata['vertex'][index]['green'] = color[1]\n",
    "        plydata['vertex'][index]['blue'] = color[2]\n",
    "        plydata['vertex'][index]['alpha'] = color[3]\n",
    "    plydata.write('./Mesh/results/half/gauss_'+file_name)"
   ]
  },
  {
   "cell_type": "markdown",
   "metadata": {},
   "source": [
    "print(np.amax(curvature_data))\n",
    "print(np.amin(curvature_data))"
   ]
  }
 ],
 "metadata": {
  "kernelspec": {
   "display_name": "Python 3.6.10 64-bit ('points': conda)",
   "language": "python",
   "name": "python361064bitpointsconda483ac189efbf40e9a3cd262f7446a353"
  },
  "language_info": {
   "codemirror_mode": {
    "name": "ipython",
    "version": 3
   },
   "file_extension": ".py",
   "mimetype": "text/x-python",
   "name": "python",
   "nbconvert_exporter": "python",
   "pygments_lexer": "ipython3",
   "version": "3.6.10-final"
  }
 },
 "nbformat": 4,
 "nbformat_minor": 4
}