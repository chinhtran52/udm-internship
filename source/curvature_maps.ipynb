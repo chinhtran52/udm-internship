{
 "cells": [
  {
   "cell_type": "code",
   "execution_count": 1,
   "metadata": {},
   "outputs": [],
   "source": [
    "import numpy as np\n",
    "import plyfile as ply\n",
    "from plyfile import PlyData, PlyElement\n",
    "\n",
    "# some_file.py\n",
    "import sys\n",
    "# insert at 1, 0 is the script path (or '' in REPL)\n",
    "sys.path.insert(1, './Colors')\n",
    "#gaussian\n",
    "import realman_gaussian_color as rgc\n",
    "import gaussian_color as sgc\n",
    "\n",
    "#mean\n",
    "import mean_color as mean\n",
    "\n",
    "#root square\n",
    "import rms_color as rms\n",
    "\n",
    "#absolute\n",
    "import abs_color as abc"
   ]
  },
  {
   "cell_type": "code",
   "execution_count": 3,
   "metadata": {},
   "outputs": [],
   "source": [
    "#get Color\n",
    "for i in range(1,2):\n",
    "    file_name = 'pose_'+str(i)+'.ply'\n",
    "    plydata = PlyData.read('./Mesh/Gauss Curvature/jean normal/'+file_name)\n",
    "    curvature_data = np.asarray(plydata['vertex'][:]['quality'])\n",
    "    for index in range(plydata['vertex'].count):\n",
    "        #print(curvature_data[index])\n",
    "        color = rgc.getColor(curvature_data[index])\n",
    "        plydata['vertex'][index]['red'] = color[0]\n",
    "        plydata['vertex'][index]['green'] = color[1]\n",
    "        plydata['vertex'][index]['blue'] = color[2]\n",
    "        plydata['vertex'][index]['alpha'] = color[3]\n",
    "    plydata.write('./Mesh/results/jean normal/gauss_'+file_name)"
   ]
  },
  {
   "cell_type": "markdown",
   "metadata": {},
   "source": [
    "print(np.amax(curvature_data))\n",
    "print(np.amin(curvature_data))"
   ]
  },
  {
   "cell_type": "markdown",
   "metadata": {},
   "source": [
    "plydata = PlyData.read('./Mesh/Gauss Curvature/jean normal/pose_1.ply')\n",
    "curvature_data = np.asarray(plydata['vertex'][:]['quality'])\n",
    "for index in range(plydata['vertex'].count):\n",
    "    #print(curvature_data[index])\n",
    "    color = rgc.getColor(curvature_data[index])\n",
    "    plydata['vertex'][index]['red'] = color[0]\n",
    "    plydata['vertex'][index]['green'] = color[1]\n",
    "    plydata['vertex'][index]['blue'] = color[2]\n",
    "    plydata['vertex'][index]['alpha'] = color[3]\n",
    "plydata.write('./Mesh/results/jean normal/gauss_pose_1.ply')"
   ]
  },
  {
   "cell_type": "code",
   "execution_count": null,
   "metadata": {},
   "outputs": [],
   "source": []
  }
 ],
 "metadata": {
  "kernelspec": {
   "display_name": "Python 3.6.10 64-bit ('montl': conda)",
   "language": "python",
   "name": "python361064bitmontlconda0c79a70599ec4c2ca3c6b5b5b010cf4c"
  },
  "language_info": {
   "codemirror_mode": {
    "name": "ipython",
    "version": 3
   },
   "file_extension": ".py",
   "mimetype": "text/x-python",
   "name": "python",
   "nbconvert_exporter": "python",
   "pygments_lexer": "ipython3",
   "version": "3.6.10-final"
  }
 },
 "nbformat": 4,
 "nbformat_minor": 4
}