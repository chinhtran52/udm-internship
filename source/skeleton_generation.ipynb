{
 "cells": [
  {
   "cell_type": "code",
   "execution_count": 1,
   "metadata": {},
   "outputs": [],
   "source": [
    "from plyfile import PlyData\n",
    "import numpy as np\n",
    "import curvature as cur\n",
    "\n",
    "import utilities as uti\n",
    "import open3d as o3d\n",
    "\n",
    "def initData(plydata):\n",
    "    cnt = plydata['vertex'].count\n",
    "    mesh = np.empty((cnt,5))\n",
    "    mesh[:,0] = plydata['vertex']['x']\n",
    "    mesh[:,1] = plydata['vertex']['y']\n",
    "    mesh[:,2] = plydata['vertex']['z']\n",
    "    mesh[:,3] = plydata['vertex']['quality']\n",
    "    mesh[:,4] = plydata['vertex']['nz']\n",
    "    return mesh\n",
    "\n",
    "for i in range(2,3):\n",
    "    ## read data\n",
    "    plydata = PlyData.read('./Mesh/results/8 frames/jean_ng'+str(i)+'.ply')\n",
    "    \n",
    "    ## init\n",
    "    mesh = initData(plydata)\n",
    "\n",
    "    ## get peak areas curvature\n",
    "    mesh = mesh[np.where(mesh[:,4] < 0)]\n",
    "    high = mesh[np.where(mesh[:,3] > 50)]\n",
    "    low = mesh[np.where(mesh[:,3] < -70)]\n",
    "\n",
    "    ## Concave joints low gaussian curvature\n",
    "    concave = uti.createPointCloud(low[:,:3])\n",
    "    #concave = uti.outlierRemoval(concave,10,0.5)['inlier']\n",
    "\n",
    "    ## Convex joints high gaussian curvature\n",
    "    convex = uti.createPointCloud(high[:,:3])\n",
    "    convex = uti.outlierRemoval(convex,10,0.1)['inlier']\n",
    "\n",
    "\n",
    "\n",
    "    # visualization\n",
    "    # concave.paint_uniform_color(np.array([0,0,1]))\n",
    "    # convex.paint_uniform_color(np.array([1,0,0]))\n",
    "    # o3d.visualization.draw_geometries([concave,convex])"
   ]
  },
  {
   "cell_type": "code",
   "execution_count": 2,
   "metadata": {},
   "outputs": [
    {
     "output_type": "execute_result",
     "data": {
      "text/plain": "geometry::PointCloud with 1830 points."
     },
     "metadata": {},
     "execution_count": 2
    }
   ],
   "source": [
    "from human_skeleton import HumanSkeleton\n",
    "\n",
    "convexs = np.asarray(convex.points)\n",
    "concaves = np.asarray(concave.points)\n",
    "maxi = np.amax(convexs[:,1])\n",
    "mini = np.amin(convexs[:,1])\n",
    "hei = maxi - mini\n",
    "\n",
    "def getJointPoint(points,limit_top,limit_bot,num=1,note=False):\n",
    "    data = np.array([x for x in points if limit_bot<=x[1]<=limit_top])\n",
    "    if num == 1:\n",
    "        temp = []\n",
    "        for i in data:\n",
    "            temp.append(i)\n",
    "        temp = np.asarray(temp)\n",
    "        return np.array([np.array([np.average(temp[:,0]),np.average(temp[:,1]),np.average(temp[:,2])])])\n",
    "    elif num == 2:\n",
    "        left = []\n",
    "        right = []\n",
    "        center = {\n",
    "            'x' : (np.amax(points[:,0]) + np.amin(points[:,0]))/2,\n",
    "            'y' : (np.amax(points[:,1]) + np.amin(points[:,1]))/2,\n",
    "            'z' : (np.amax(points[:,2]) + np.amin(points[:,2]))/2,\n",
    "        }\n",
    "        for i in data:\n",
    "            if i[0] < center['x']:\n",
    "                left.append(i)\n",
    "            else:\n",
    "                right.append(i)\n",
    "        left = np.asarray(left)\n",
    "        right = np.asarray(right)\n",
    "        result = []\n",
    "        try:\n",
    "            result.append([np.average(left[:,0]),np.average(left[:,1]),np.average(left[:,2])])\n",
    "        except:\n",
    "            if note:\n",
    "                temp = note + ' '\n",
    "            else:\n",
    "                temp = ''\n",
    "            print('Cant get '+temp+'left point!')\n",
    "        try:\n",
    "            result.append([np.average(right[:,0]),np.average(right[:,1]),np.average(right[:,2])])\n",
    "        except:\n",
    "            if note:\n",
    "                temp = note + ' '\n",
    "            else:\n",
    "                temp = ''\n",
    "            print('Cant get '+temp+'right point!')\n",
    "        return np.array(result)\n",
    "    else:\n",
    "        print('Only have 1 or 2 joint(s)!')\n",
    "        return False\n",
    "\n",
    "## convex\n",
    "head = getJointPoint(convexs, (mini + hei), (mini + 0.87*hei))\n",
    "shoulders = getJointPoint(convexs, (mini + 0.869*hei), (mini + 0.8*hei),2)\n",
    "hands = getJointPoint(convexs, (mini + 0.6*hei), (mini + 0.4*hei),2)\n",
    "knees = getJointPoint(convexs, (mini + 0.37*hei), (mini + 0.3*hei),2)\n",
    "foots = getJointPoint(convexs, (mini + 0.2*hei), (mini + 0.01*hei),2)\n",
    "\n",
    "## concave\n",
    "neck = getJointPoint(concaves, (mini + hei), (mini + 0.8*hei))\n",
    "elbows = getJointPoint(concaves, (mini + 0.7*hei), (mini + 0.6*hei),2)\n",
    "wrists = getJointPoint(concaves, (mini + 0.6*hei), (mini + 0.5*hei),2)\n",
    "weist = getJointPoint(concaves, (mini + 0.45*hei), (mini + 0.42*hei))\n",
    "ankles = getJointPoint(concaves, (mini + 0.2*hei), (mini + 0.05*hei),2)\n",
    "\n",
    "joints = np.concatenate((head,neck,shoulders,elbows,wrists,hands,weist,knees,ankles,foots))\n",
    "\n",
    "joints_pcl = uti.createPointCloud(joints)\n",
    "joints_pcl.paint_uniform_color(np.array([1,0,0]))\n",
    "\n",
    "ori = uti.createPointCloud(mesh[:,:3])\n",
    "ori.paint_uniform_color(np.array([0.8,0.8,0.8]))\n",
    "\n",
    "#o3d.visualization.draw_geometries([joints])"
   ]
  },
  {
   "cell_type": "code",
   "execution_count": 3,
   "metadata": {},
   "outputs": [],
   "source": [
    "jean = HumanSkeleton()\n",
    "skeleton = jean.createSkeleton(joints)\n",
    "colors = np.array([[1, 0, 0] for i in range(len(joints))])\n",
    "skeleton.colors = o3d.utility.Vector3dVector(colors)\n",
    "#o3d.visualization.draw_geometries([skeleton,ori,joints_pcl])"
   ]
  },
  {
   "cell_type": "markdown",
   "metadata": {},
   "source": [
    "### Skeleton from Kinect"
   ]
  },
  {
   "cell_type": "code",
   "execution_count": 4,
   "metadata": {},
   "outputs": [
    {
     "output_type": "execute_result",
     "data": {
      "text/plain": "geometry::PointCloud with 25 points."
     },
     "metadata": {},
     "execution_count": 4
    }
   ],
   "source": [
    "import data_to_plist as dtp\n",
    "kinect_skeleton = dtp.generatePoints('./Skeletons Kinect/skt2.dat')\n",
    "kinect_skeleton = uti.createPointCloud(kinect_skeleton)\n",
    "kinect_skeleton.paint_uniform_color(np.array([0,1,0]))"
   ]
  },
  {
   "cell_type": "code",
   "execution_count": 5,
   "metadata": {},
   "outputs": [],
   "source": [
    "o3d.visualization.draw_geometries([skeleton,joints_pcl,kinect_skeleton])"
   ]
  },
  {
   "cell_type": "code",
   "execution_count": 7,
   "metadata": {},
   "outputs": [],
   "source": [
    "convex = np.concatenate((head,shoulders,hands,knees,foots))\n",
    "concave = np.concatenate((neck,elbows,wrists,weist,ankles))\n",
    "convex = uti.createPointCloud(convex)\n",
    "concave = uti.createPointCloud(concave)\n",
    "convex.paint_uniform_color(np.array([1,0,0]))\n",
    "concave.paint_uniform_color(np.array([0,1,0]))\n",
    "o3d.visualization.draw_geometries([concave,convex,ori])"
   ]
  },
  {
   "cell_type": "code",
   "execution_count": null,
   "metadata": {},
   "outputs": [],
   "source": [
    "pcd = o3d.io.read_point_cloud('./Mesh/results/8 frames/jean_ng2.ply')"
   ]
  }
 ],
 "metadata": {
  "language_info": {
   "codemirror_mode": {
    "name": "ipython",
    "version": 3
   },
   "file_extension": ".py",
   "mimetype": "text/x-python",
   "name": "python",
   "nbconvert_exporter": "python",
   "pygments_lexer": "ipython3",
   "version": "3.6.10-final"
  },
  "orig_nbformat": 2,
  "kernelspec": {
   "name": "python361064bitmontlconda0c79a70599ec4c2ca3c6b5b5b010cf4c",
   "display_name": "Python 3.6.10 64-bit ('montl': conda)"
  }
 },
 "nbformat": 4,
 "nbformat_minor": 2
}