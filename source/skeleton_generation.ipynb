{
 "cells": [
  {
   "cell_type": "code",
   "execution_count": 13,
   "metadata": {},
   "outputs": [],
   "source": [
    "from plyfile import PlyData\n",
    "import numpy as np\n",
    "import utilities as uti\n",
    "poses = 1"
   ]
  },
  {
   "cell_type": "code",
   "execution_count": 15,
   "metadata": {},
   "outputs": [],
   "source": [
    "for i in range(poses):\n",
    "    data = PlyData.read('./Mesh/results/jean normal/nonback_gauss_pose_1.ply')\n",
    "    points = np.empty((data['vertex'].count,4))\n",
    "    points[:,0] =data['vertex']['x']\n",
    "    points[:,1] =data['vertex']['y']\n",
    "    points[:,2] =data['vertex']['z']\n",
    "    points[:,3] =data['vertex']['quality']"
   ]
  },
  {
   "cell_type": "code",
   "execution_count": null,
   "metadata": {},
   "outputs": [],
   "source": []
  }
 ],
 "metadata": {
  "language_info": {
   "codemirror_mode": {
    "name": "ipython",
    "version": 3
   },
   "file_extension": ".py",
   "mimetype": "text/x-python",
   "name": "python",
   "nbconvert_exporter": "python",
   "pygments_lexer": "ipython3",
   "version": "3.6.10-final"
  },
  "orig_nbformat": 2,
  "kernelspec": {
   "name": "python361064bitmontlconda0c79a70599ec4c2ca3c6b5b5b010cf4c",
   "display_name": "Python 3.6.10 64-bit ('montl': conda)"
  }
 },
 "nbformat": 4,
 "nbformat_minor": 2
}