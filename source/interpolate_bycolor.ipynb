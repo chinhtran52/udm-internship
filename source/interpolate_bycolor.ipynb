{
 "cells": [
  {
   "cell_type": "markdown",
   "metadata": {},
   "source": [
    "### 1. Import Libraries"
   ]
  },
  {
   "cell_type": "code",
   "execution_count": 1,
   "metadata": {},
   "outputs": [],
   "source": [
    "from PIL import Image\n",
    "import numpy as np\n",
    "import sys\n",
    "sys.path.insert(1, './Colors')\n",
    "import gradient_color as gdc"
   ]
  },
  {
   "cell_type": "markdown",
   "metadata": {},
   "source": [
    "### 2. Define functions"
   ]
  },
  {
   "cell_type": "code",
   "execution_count": 6,
   "metadata": {},
   "outputs": [],
   "source": [
    "def getValue(huevalue,mincur=-2,maxcur=2):\n",
    "    return (mincur-maxcur)*huevalue/170 + maxcur\n",
    "\n",
    "def filImage(hsvdata):\n",
    "    hi = len(hsvdata)\n",
    "    wi = len(hsvdata[0])\n",
    "    cldata = np.empty((hi,wi,3))\n",
    "    cldata[:,:] = np.NaN\n",
    "    for i in range(hi):\n",
    "        for j in range(wi):\n",
    "            if hsvdata[i][j][0] >= 170:\n",
    "                if hsvdata[i][j][0] <= 210:\n",
    "                    cldata[i][j] = np.array([170,255,255])\n",
    "                else:\n",
    "                    cldata[i][j] = np.array([0,255,255])\n",
    "            else:\n",
    "                if hsvdata[i][j][1] == 0:\n",
    "                    cldata[i][j] = np.array([np.NaN,0,255])\n",
    "                else:\n",
    "                    cldata[i][j] = np.array([hsvdata[i][j][0],255,255])\n",
    "    return cldata\n",
    "\n",
    "def computeCurvatureMap(data,mini=-2,maxi=2):\n",
    "    result = getValue(data[:,:,0],mincur=mini,maxcur=maxi)\n",
    "    return result\n",
    "\n",
    "def showImageHSV(data):\n",
    "    if data.ndim == 3:\n",
    "        temp = np.array(data,dtype=np.int8)\n",
    "        newig = Image.fromarray(temp,'HSV')\n",
    "        newig.show()\n",
    "    else:\n",
    "        print('the input is a 3D array of HSV color format!')\n",
    "\n",
    "def showImageCurvature(data,highest=1,lowest=-1,save=False):\n",
    "    if data.ndim == 2:\n",
    "        hi = len(data)\n",
    "        wi = len(data[0])\n",
    "        frame = np.zeros((hi,wi,3))\n",
    "        frame = frame + 255\n",
    "        for i in range(hi):\n",
    "            for j in range(wi):\n",
    "                if not np.isnan(data[i][j]):\n",
    "                    frame[i][j] = gdc.getColor(data[i][j],highest=highest,lowest=lowest)\n",
    "        temp = np.array(frame,dtype=np.int8)\n",
    "        newig = Image.fromarray(temp,'RGB')\n",
    "        newig.show()\n",
    "        if save:\n",
    "            newig.save(save)\n",
    "    else:\n",
    "        print('the input for showing image from CURVATURE data is 2D!')"
   ]
  },
  {
   "cell_type": "markdown",
   "metadata": {},
   "source": [
    "### 3. Main Loop"
   ]
  },
  {
   "cell_type": "code",
   "execution_count": 21,
   "metadata": {},
   "outputs": [],
   "source": [
    "avg = np.empty((400,400))\n",
    "avg[:] = np.NaN\n",
    "fs = 8\n",
    "\n",
    "for i in range(fs):\n",
    "    img = Image.open('./Images/jean/ng'+str(i+1)+'.png')\n",
    "    img = img.convert('HSV')\n",
    "    hsvdata = np.array(img)\n",
    "    cldata = filImage(hsvdata)\n",
    "    curmap = computeCurvatureMap(cldata,mini=-100,maxi=100)\n",
    "    for i in range(400):\n",
    "        for j in range(400):\n",
    "            if not np.isnan(curmap[i][j]):\n",
    "                if np.isnan(avg[i][j]):\n",
    "                    avg[i][j] = curmap[i][j]\n",
    "                else:\n",
    "                    avg[i][j] += curmap[i][j]\n",
    "\n",
    "showImageCurvature(avg/fs,highest=80,lowest=-80,save='./Images/jean8ng.png')"
   ]
  },
  {
   "cell_type": "markdown",
   "metadata": {},
   "source": [
    "    cldata = np.array(cldata,dtype=np.int8)\n",
    "    newig = Image.fromarray(cldata,'HSV')\n",
    "    newig = newig.convert('RGB')\n",
    "    newig.save('./Images/test3.png')"
   ]
  }
 ],
 "metadata": {
  "language_info": {
   "codemirror_mode": {
    "name": "ipython",
    "version": 3
   },
   "file_extension": ".py",
   "mimetype": "text/x-python",
   "name": "python",
   "nbconvert_exporter": "python",
   "pygments_lexer": "ipython3",
   "version": "3.6.10-final"
  },
  "orig_nbformat": 2,
  "kernelspec": {
   "name": "python361064bitmontlconda0c79a70599ec4c2ca3c6b5b5b010cf4c",
   "display_name": "Python 3.6.10 64-bit ('montl': conda)"
  }
 },
 "nbformat": 4,
 "nbformat_minor": 2
}