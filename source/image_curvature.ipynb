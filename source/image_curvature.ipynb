{
 "nbformat": 4,
 "nbformat_minor": 2,
 "metadata": {
  "language_info": {
   "name": "python",
   "codemirror_mode": {
    "name": "ipython",
    "version": 3
   },
   "version": "3.6.10-final"
  },
  "orig_nbformat": 2,
  "file_extension": ".py",
  "mimetype": "text/x-python",
  "name": "python",
  "npconvert_exporter": "python",
  "pygments_lexer": "ipython3",
  "version": 3,
  "kernelspec": {
   "name": "python361064bitmontlconda0c79a70599ec4c2ca3c6b5b5b010cf4c",
   "display_name": "Python 3.6.10 64-bit ('montl': conda)"
  }
 },
 "cells": [
  {
   "cell_type": "code",
   "execution_count": 4,
   "metadata": {},
   "outputs": [],
   "source": [
    "import numpy as np\n",
    "from PIL import Image"
   ]
  },
  {
   "cell_type": "code",
   "execution_count": 5,
   "metadata": {},
   "outputs": [],
   "source": [
    "height = 801\n",
    "width = 1572\n",
    "frame = np.zeros((height,width,3))\n",
    "loop = 0\n",
    "for i in range(1,9):\n",
    "    loop += 1\n",
    "    img = Image.open('./Images/frames/pose_'+str(i)+'.png')\n",
    "    data = np.array(img)\n",
    "    frame += data\n",
    "frame /= loop\n",
    "frame = np.array(frame,dtype=np.uint8)\n",
    "#frame[:,:,0] = 255"
   ]
  },
  {
   "cell_type": "code",
   "execution_count": 6,
   "metadata": {},
   "outputs": [],
   "source": [
    "aimg = Image.fromarray(frame,'RGB')\n",
    "# aimg = aimg.convert('HSV')\n",
    "# temp = np.array(aimg)\n",
    "# temp[:,:,1] *= 2\n",
    "# aimg = Image.fromarray(temp,'HSV')\n",
    "aimg.show()\n",
    "aimg.save('./Images/gauss_mesh_sim_normal.png')"
   ]
  },
  {
   "cell_type": "code",
   "execution_count": null,
   "metadata": {},
   "outputs": [],
   "source": []
  }
 ]
}